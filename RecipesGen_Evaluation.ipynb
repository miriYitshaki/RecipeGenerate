{
  "nbformat": 4,
  "nbformat_minor": 0,
  "metadata": {
    "colab": {
      "name": "RecipesGen_Evaluation.ipynb",
      "provenance": [],
      "collapsed_sections": [],
      "toc_visible": true
    },
    "kernelspec": {
      "name": "python3",
      "display_name": "Python 3"
    }
  },
  "cells": [
    {
      "cell_type": "markdown",
      "metadata": {
        "id": "B463xA4IMHKY",
        "colab_type": "text"
      },
      "source": [
        "# Rouge"
      ]
    },
    {
      "cell_type": "code",
      "metadata": {
        "id": "EopfnNWZdSHM",
        "colab_type": "code",
        "colab": {
          "base_uri": "https://localhost:8080/",
          "height": 33
        },
        "outputId": "c35ed79b-41f4-4167-9167-896455842956"
      },
      "source": [
        "%cd /content/"
      ],
      "execution_count": null,
      "outputs": [
        {
          "output_type": "stream",
          "text": [
            "/content\n"
          ],
          "name": "stdout"
        }
      ]
    },
    {
      "cell_type": "code",
      "metadata": {
        "id": "7Lu4Lr0IMr1f",
        "colab_type": "code",
        "colab": {}
      },
      "source": [
        "!git clone https://github.com/pltrdy/rouge\n",
        "%cd rouge\n",
        "!python setup.py install\n",
        "#!pip install rouge"
      ],
      "execution_count": null,
      "outputs": []
    },
    {
      "cell_type": "code",
      "metadata": {
        "id": "TxeT3TRXd6Qm",
        "colab_type": "code",
        "colab": {
          "base_uri": "https://localhost:8080/",
          "height": 33
        },
        "outputId": "39737b2e-4849-4aa0-a295-38d3464c361b"
      },
      "source": [
        "%cd /content/rouge\n",
        "from rouge import Rouge "
      ],
      "execution_count": null,
      "outputs": [
        {
          "output_type": "stream",
          "text": [
            "/content/rouge\n"
          ],
          "name": "stdout"
        }
      ]
    },
    {
      "cell_type": "code",
      "metadata": {
        "id": "EwHHGo33OuJh",
        "colab_type": "code",
        "colab": {
          "base_uri": "https://localhost:8080/",
          "height": 52
        },
        "outputId": "6e67d1c3-e05a-4ebe-d612-3d3482f90abe"
      },
      "source": [
        "%cd\n",
        "%cd \"/content/drive/Shared drives/rs/RSProject/recipe-personalization_org/OUTPUT50KTchPrfNew\""
      ],
      "execution_count": null,
      "outputs": [
        {
          "output_type": "stream",
          "text": [
            "/root\n",
            "/content/drive/Shared drives/rs/RSProject/recipe-personalization_org/OUTPUT50KTchPrfNew\n"
          ],
          "name": "stdout"
        }
      ]
    },
    {
      "cell_type": "markdown",
      "metadata": {
        "id": "dkzfhpkTMRhl",
        "colab_type": "text"
      },
      "source": [
        "# BLEU"
      ]
    },
    {
      "cell_type": "code",
      "metadata": {
        "id": "U9k1hVIlNQx0",
        "colab_type": "code",
        "colab": {}
      },
      "source": [
        "\n",
        "def calc_bleu (filepath):\n",
        "  \n",
        "  #filepath = 'model_baseline_e3/test_i94035_u24751/output.txt'\n",
        "\n",
        "  nlp = spacy.load(\"en\", disable=[\"parser\", \"tagger\", \"textcat\", \"ner\", \"vectors\"])\n",
        "  bleu_1 = []\n",
        "  bleu_2 = []\n",
        "  bleu_3 = []\n",
        "  bleu_4 = []\n",
        "  with open(filepath) as fp:\n",
        "    lines = list(fp)\n",
        "    for line in lines:\n",
        "      \n",
        "      if \"Original Steps:\" in line:\n",
        "          ref_text = lines[lines.index(line)+1]\n",
        "          reference_tokens = [t.text for t in nlp(ref_text.strip())]\n",
        "          \n",
        "          #print (reference_tokens)\n",
        "      if \"MODEL OUTPUT:\" in line:\n",
        "          gen_text = lines[lines.index(line)+1]\n",
        "          generated_tokens = [t.text for t in nlp(gen_text.strip())]\n",
        "          #print (generated_tokens)\n",
        "  bleu_1.append(sentence_bleu([reference_tokens], generated_tokens, weights=(1, 0, 0, 0)))\n",
        "  bleu_2.append(sentence_bleu([reference_tokens], generated_tokens, weights=(0.5, 0.5, 0, 0)))\n",
        "  bleu_3.append(sentence_bleu([reference_tokens], generated_tokens, weights=(0.33, 0.33, 0.33, 0)))\n",
        "  bleu_4.append(sentence_bleu([reference_tokens], generated_tokens, weights=(0.25, 0.25, 0.25, 0.25)))\n",
        "\n",
        "  final_bleu = [bleu_1,bleu_2,bleu_3,bleu_4]\n",
        "  return final_bleu\n",
        "\n",
        "\n",
        "#print (final_blue)    \n",
        "#print(' \\nMean BLEU-1 score: {:.3f}\\nMean BLEU-2 score: {:.3f}\\nMean BLEU-3 score: {:.3f}\\nMean BLEU-4 score: {:.3f}'.format(np.array(bleu_1).mean()*100, np.array(bleu_2).mean()*100, np.array(bleu_3).mean()*100, np.array(bleu_4).mean()*100))\n"
      ],
      "execution_count": null,
      "outputs": []
    },
    {
      "cell_type": "markdown",
      "metadata": {
        "id": "leknlaeb1TFI",
        "colab_type": "text"
      },
      "source": [
        "*rouge* and *bleu* calculation over output folder"
      ]
    },
    {
      "cell_type": "code",
      "metadata": {
        "id": "iTNTCKUUImBA",
        "colab_type": "code",
        "colab": {}
      },
      "source": [
        "import os\n",
        "import pandas as pd\n",
        "import nltk\n",
        "from nltk.translate.bleu_score import sentence_bleu\n",
        "import spacy\n",
        "import numpy as np\n",
        "##################### need to change the model \n",
        "rootdir = 'model_tech_pref_e2'\n",
        "files_list = []\n",
        "c = 0\n",
        "\n",
        "for subdir, dirs, files in os.walk(rootdir):\n",
        "  for file in files:\n",
        "\n",
        "    if file.endswith('.txt'):\n",
        "      c+=1\n",
        "      if (c%1000 == 0): print (c)\n",
        "\n",
        "      name = os.path.join(subdir, file)\n",
        "      files_list.append(name)\n",
        "\n",
        "df1 = pd.DataFrame(files_list)\n",
        "df1.to_pickle(\"/content/drive/My Drive/ForMiri (1)/file_list_model_tech_pref_e2.pkl\")      \n",
        "print (\"finish files list\")\n",
        "count = 0\n",
        "rootdir = 'model_tech_pref_e2'\n",
        "scores_list = []\n",
        "for file in files_list:\n",
        "  count +=1 \n",
        "  if (count%1000 == 0): print (count)\n",
        "  fp = open(file,'r')\n",
        "  lines = list(fp)\n",
        "  for line in lines:\n",
        "    if \"Original Steps:\" in line:\n",
        "      original = lines[lines.index(line)+1]\n",
        "       #print (original)\n",
        "    if \"MODEL OUTPUT:\" in line:\n",
        "      model = lines[lines.index(line)+1]\n",
        "        # print (model)\n",
        "\n",
        "  rouge = Rouge()\n",
        "  scores = rouge.get_scores(original, model, avg=True)\n",
        "  scores_list.append(scores)\n",
        "\n",
        "df = pd.DataFrame(scores_list)\n",
        "df.to_pickle(\"/content/drive/My Drive/ForMiri (1)/model_user-pref_e2_rouge_score.pkl\")\n",
        "print (\"finish rouge\")\n",
        "\n",
        "count = 0\n",
        "bleus = []\n",
        "scores_list2 = []\n",
        "for file in files_list:  \n",
        "  b_score = calc_bleu (file)\n",
        "  scores_list2.append(b_score)\n",
        "  count +=1\n",
        "  if (count % 1000 ==0): print (count)\n",
        "\n",
        "df = pd.DataFrame(scores_list2)\n",
        "#df.head(10)\n",
        "df.to_pickle(\"/content/drive/My Drive/ForMiri (1)/model_tech_pref_e2_bleu_score.pkl\")"
      ],
      "execution_count": null,
      "outputs": []
    },
    {
      "cell_type": "code",
      "metadata": {
        "id": "eplDiyHq00yh",
        "colab_type": "code",
        "colab": {
          "base_uri": "https://localhost:8080/",
          "height": 340
        },
        "outputId": "5a64fab1-f98b-42b9-adb4-24052998de64"
      },
      "source": [
        "new_dict.head(10)"
      ],
      "execution_count": null,
      "outputs": [
        {
          "output_type": "execute_result",
          "data": {
            "text/html": [
              "<div>\n",
              "<style scoped>\n",
              "    .dataframe tbody tr th:only-of-type {\n",
              "        vertical-align: middle;\n",
              "    }\n",
              "\n",
              "    .dataframe tbody tr th {\n",
              "        vertical-align: top;\n",
              "    }\n",
              "\n",
              "    .dataframe thead th {\n",
              "        text-align: right;\n",
              "    }\n",
              "</style>\n",
              "<table border=\"1\" class=\"dataframe\">\n",
              "  <thead>\n",
              "    <tr style=\"text-align: right;\">\n",
              "      <th></th>\n",
              "      <th>rouge-1</th>\n",
              "      <th>rouge-2</th>\n",
              "      <th>rouge-l</th>\n",
              "    </tr>\n",
              "  </thead>\n",
              "  <tbody>\n",
              "    <tr>\n",
              "      <th>0</th>\n",
              "      <td>{'f': 0.27586206539387637, 'p': 0.179775280898...</td>\n",
              "      <td>{'f': 0.11304347471417782, 'p': 0.073446327683...</td>\n",
              "      <td>{'f': 0.810344824014566, 'p': 0.52808988764044...</td>\n",
              "    </tr>\n",
              "    <tr>\n",
              "      <th>1</th>\n",
              "      <td>{'f': 0.523489927887933, 'p': 0.51315789473684...</td>\n",
              "      <td>{'f': 0.21768706983201452, 'p': 0.213333333333...</td>\n",
              "      <td>{'f': 1.087248317149678, 'p': 1.06578947368421...</td>\n",
              "    </tr>\n",
              "    <tr>\n",
              "      <th>2</th>\n",
              "      <td>{'f': 0.18390804105694292, 'p': 0.163265306122...</td>\n",
              "      <td>{'f': 0.0, 'p': 0.0, 'r': 0.0}</td>\n",
              "      <td>{'f': 0.25287355829832214, 'p': 0.224489795918...</td>\n",
              "    </tr>\n",
              "    <tr>\n",
              "      <th>3</th>\n",
              "      <td>{'f': 0.4827586158382878, 'p': 0.4117647058823...</td>\n",
              "      <td>{'f': 0.22222221739369008, 'p': 0.1875, 'r': 0...</td>\n",
              "      <td>{'f': 0.4827586158382878, 'p': 0.4117647058823...</td>\n",
              "    </tr>\n",
              "    <tr>\n",
              "      <th>4</th>\n",
              "      <td>{'f': 0.43333332844583333, 'p': 0.509803921568...</td>\n",
              "      <td>{'f': 0.16949152054007485, 'p': 0.2, 'r': 0.14...</td>\n",
              "      <td>{'f': 0.7999999951125, 'p': 0.9411764705882353...</td>\n",
              "    </tr>\n",
              "    <tr>\n",
              "      <th>5</th>\n",
              "      <td>{'f': 0.2093023224094105, 'p': 0.1304347826086...</td>\n",
              "      <td>{'f': 0.023529408635986578, 'p': 0.01459854014...</td>\n",
              "      <td>{'f': 0.4186046479908058, 'p': 0.2608695652173...</td>\n",
              "    </tr>\n",
              "    <tr>\n",
              "      <th>6</th>\n",
              "      <td>{'f': 0.24444443980000005, 'p': 0.192982456140...</td>\n",
              "      <td>{'f': 0.022727268099174493, 'p': 0.01785714285...</td>\n",
              "      <td>{'f': 0.3999999953555556, 'p': 0.3157894736842...</td>\n",
              "    </tr>\n",
              "    <tr>\n",
              "      <th>7</th>\n",
              "      <td>{'f': 0.3833333283347223, 'p': 0.3770491803278...</td>\n",
              "      <td>{'f': 0.10924369248040415, 'p': 0.107438016528...</td>\n",
              "      <td>{'f': 1.299999995001389, 'p': 1.27868852459016...</td>\n",
              "    </tr>\n",
              "    <tr>\n",
              "      <th>8</th>\n",
              "      <td>{'f': 0.29230768745088764, 'p': 0.25, 'r': 0.3...</td>\n",
              "      <td>{'f': 0.031249995147705833, 'p': 0.02666666666...</td>\n",
              "      <td>{'f': 0.6615384566816568, 'p': 0.5657894736842...</td>\n",
              "    </tr>\n",
              "    <tr>\n",
              "      <th>9</th>\n",
              "      <td>{'f': 0.213333328376889, 'p': 0.23529411764705...</td>\n",
              "      <td>{'f': 0.0, 'p': 0.0, 'r': 0.0}</td>\n",
              "      <td>{'f': 0.3199999950435556, 'p': 0.3529411764705...</td>\n",
              "    </tr>\n",
              "  </tbody>\n",
              "</table>\n",
              "</div>"
            ],
            "text/plain": [
              "                                             rouge-1  ...                                            rouge-l\n",
              "0  {'f': 0.27586206539387637, 'p': 0.179775280898...  ...  {'f': 0.810344824014566, 'p': 0.52808988764044...\n",
              "1  {'f': 0.523489927887933, 'p': 0.51315789473684...  ...  {'f': 1.087248317149678, 'p': 1.06578947368421...\n",
              "2  {'f': 0.18390804105694292, 'p': 0.163265306122...  ...  {'f': 0.25287355829832214, 'p': 0.224489795918...\n",
              "3  {'f': 0.4827586158382878, 'p': 0.4117647058823...  ...  {'f': 0.4827586158382878, 'p': 0.4117647058823...\n",
              "4  {'f': 0.43333332844583333, 'p': 0.509803921568...  ...  {'f': 0.7999999951125, 'p': 0.9411764705882353...\n",
              "5  {'f': 0.2093023224094105, 'p': 0.1304347826086...  ...  {'f': 0.4186046479908058, 'p': 0.2608695652173...\n",
              "6  {'f': 0.24444443980000005, 'p': 0.192982456140...  ...  {'f': 0.3999999953555556, 'p': 0.3157894736842...\n",
              "7  {'f': 0.3833333283347223, 'p': 0.3770491803278...  ...  {'f': 1.299999995001389, 'p': 1.27868852459016...\n",
              "8  {'f': 0.29230768745088764, 'p': 0.25, 'r': 0.3...  ...  {'f': 0.6615384566816568, 'p': 0.5657894736842...\n",
              "9  {'f': 0.213333328376889, 'p': 0.23529411764705...  ...  {'f': 0.3199999950435556, 'p': 0.3529411764705...\n",
              "\n",
              "[10 rows x 3 columns]"
            ]
          },
          "metadata": {
            "tags": []
          },
          "execution_count": 82
        }
      ]
    },
    {
      "cell_type": "code",
      "metadata": {
        "id": "hK0j_PqUxx62",
        "colab_type": "code",
        "colab": {}
      },
      "source": [
        "new_dict['rouge-lr'] = [g['r'] for g in new_dict['rouge-l']]\n",
        "new_dict['rouge-lp'] = [g['p'] for g in new_dict['rouge-l']]\n",
        "new_dict['rouge-l'] = [g['f'] for g in new_dict['rouge-l']]\n"
      ],
      "execution_count": null,
      "outputs": []
    },
    {
      "cell_type": "code",
      "metadata": {
        "id": "6IEPbj1O1wCd",
        "colab_type": "code",
        "colab": {
          "base_uri": "https://localhost:8080/",
          "height": 70
        },
        "outputId": "7d73bc4d-03c1-4d97-e22e-4089fab8252c"
      },
      "source": [
        "print (new_dict['rouge-l'].mean())\n",
        "print (new_dict['rouge-lp'].mean())\n",
        "print (new_dict['rouge-lr'].mean())"
      ],
      "execution_count": null,
      "outputs": [
        {
          "output_type": "stream",
          "text": [
            "0.723264988611434\n",
            "0.7042017765734079\n",
            "0.9261146777944983\n"
          ],
          "name": "stdout"
        }
      ]
    },
    {
      "cell_type": "code",
      "metadata": {
        "id": "t19V7CYPgorp",
        "colab_type": "code",
        "colab": {
          "base_uri": "https://localhost:8080/",
          "height": 70
        },
        "outputId": "79d29cf0-d394-407d-bee0-39a040fdb8f6"
      },
      "source": [
        "print (new_dict['rouge-l'].mean())\n",
        "print (new_dict['rouge-lp'].mean())\n",
        "print (new_dict['rouge-lr'].mean())"
      ],
      "execution_count": null,
      "outputs": [
        {
          "output_type": "stream",
          "text": [
            "0.709141081344976\n",
            "0.6976582404921252\n",
            "0.9041960073314946\n"
          ],
          "name": "stdout"
        }
      ]
    },
    {
      "cell_type": "code",
      "metadata": {
        "id": "0FUy6DlwMUwZ",
        "colab_type": "code",
        "colab": {
          "base_uri": "https://localhost:8080/",
          "height": 33
        },
        "outputId": "c54ed1a6-4bfa-4eea-d7f5-fbac4a29d3de"
      },
      "source": [
        "import nltk\n",
        "from nltk.translate.bleu_score import sentence_bleu\n",
        "import spacy\n",
        "import numpy as np\n",
        "\n",
        "reference = [['the', 'quick', 'brown', 'fox', 'jumped', 'over', 'the', 'lazy', 'dog']]\n",
        "candidate = ['the', 'quick', 'brown', 'fox', 'jumped', 'over', 'the', 'lazy', 'dog', 'from', 'space']\n",
        "score = sentence_bleu(reference, candidate)\n",
        "print(score)\n"
      ],
      "execution_count": null,
      "outputs": [
        {
          "output_type": "stream",
          "text": [
            "0.7860753021519787\n"
          ],
          "name": "stdout"
        }
      ]
    }
  ]
}